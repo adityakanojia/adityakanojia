pip install tensorflow==2.5.0
import tensorflow as tf
import numpy as np
from tensorflow import keras


model = tf.keras.Sequential([keras.layers.Dense(units = 1,input_shape = [1])])

model.compile(optimizer = 'sgd', loss = 'mean_sqared_error')
x = np.array([-1.0,0.0,1.0,2.0,3.0,4.0], dtype=float)
y = np.array([-3.0,-1.0,1.0,3.0,5.0,7.0], dtype=float)
print('x =',x)
print('y =',y)
model.fit(x, y, epochs=500)
print(model.predict([10.0]))
